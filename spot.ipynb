{
 "cells": [
  {
   "cell_type": "code",
   "execution_count": 1,
   "metadata": {},
   "outputs": [
    {
     "data": {
      "text/plain": [
       "5"
      ]
     },
     "execution_count": 1,
     "metadata": {},
     "output_type": "execute_result"
    }
   ],
   "source": [
    "a, b = 5, 10\n",
    "b=a\n",
    "b"
   ]
  },
  {
   "cell_type": "code",
   "execution_count": null,
   "metadata": {},
   "outputs": [],
   "source": [
    "t = [1, 'a', True]\n",
    "a=t[0]\n",
    "b=t[1]"
   ]
  },
  {
   "cell_type": "code",
   "execution_count": 2,
   "metadata": {},
   "outputs": [
    {
     "ename": "TypeError",
     "evalue": "'int' object is not subscriptable",
     "output_type": "error",
     "traceback": [
      "\u001b[1;31m---------------------------------------------------------------------------\u001b[0m",
      "\u001b[1;31mTypeError\u001b[0m                                 Traceback (most recent call last)",
      "Cell \u001b[1;32mIn[2], line 3\u001b[0m\n\u001b[0;32m      1\u001b[0m numbers \u001b[38;5;241m=\u001b[39m [\u001b[38;5;241m4\u001b[39m, \u001b[38;5;241m2\u001b[39m, \u001b[38;5;241m7\u001b[39m, \u001b[38;5;241m1\u001b[39m, \u001b[38;5;241m9\u001b[39m, \u001b[38;5;241m3\u001b[39m]\n\u001b[0;32m      2\u001b[0m a \u001b[38;5;241m=\u001b[39m \u001b[38;5;28mmax\u001b[39m(numbers)\n\u001b[1;32m----> 3\u001b[0m \u001b[43ma\u001b[49m\u001b[43m[\u001b[49m\u001b[38;5;241;43m1\u001b[39;49m\u001b[43m]\u001b[49m\n",
      "\u001b[1;31mTypeError\u001b[0m: 'int' object is not subscriptable"
     ]
    }
   ],
   "source": [
    "numbers = [4, 2, 7, 1, 9, 3]\n",
    "a = max(numbers)\n",
    "a[1]"
   ]
  },
  {
   "cell_type": "markdown",
   "metadata": {},
   "source": [
    "1- Swap two variables without using a temporary variable.\n",
    " \n",
    "a, b = 5, 10\n",
    " \n",
    " \n",
    "2- Assign each values of the list t to 3 variables of a, b, c\n",
    " \n",
    "t = [1, 'a', True]\n",
    " \n",
    " \n",
    "3- Find the second largest number in a list.\n",
    " \n",
    "numbers = [4, 2, 7, 1, 9, 3]\n",
    " \n",
    " \n",
    "4- Check if a string is a palindrome.\n",
    " \n",
    " \n",
    "5- Find the similar words in below strings\n",
    " \n",
    "S1 = \"CELCOM|UNIFI|UMOBILE\"\n",
    "S2 = \"MAXIS|UMOBILE|DIGI\"\n",
    " \n",
    " \n",
    "6- Find words starting and ending with {} from the list\n",
    " \n",
    "txt = ['{EDOTCO}', 'DNA', '{Analytics}',  'D{ata}']\n",
    " \n",
    " \n",
    "7- Remove duplicates from a list while preserving the order.\n",
    " \n",
    "my_list = [1, 2, 2, 3, 4, 4, 5]\n",
    " \n",
    " \n",
    "8- Calculate the factorial of a number.\n",
    " \n",
    " \n",
    "9- Convert column \"Score\" to int\n",
    " \n",
    "df = pd.DataFrame({'ID': [1, 2, 3, 5, 6, 7, 8, 9, 10],\n",
    "                   'Score': ['1,000', '1,500', '1,200', '1,000', '1,500', '1,200', '1,000', '1,500', '1,200'],\n",
    "                   'Age': [35, 40, 22, 32, 44, 18, 20, 31, 50]})\n",
    " \n",
    " \n",
    "10- Assign the values from value_list based on index in index_dic to a new column \"Values\" in the dataframe\n",
    " \n",
    "index_dic = {1: {0, 1, 2},\n",
    "             2: {3, 4},\n",
    "             3: {5, 6},\n",
    "             4: {7}, \n",
    "             5: {8}}\n",
    " \n",
    "value_list = [[True, False, True], [True, False], [False, True], [False], [True]]\n",
    " \n",
    " \n",
    "df = pd.DataFrame({'ID': [1, 2, 3, 5, 6, 7, 8, 9, 10],\n",
    "                   'Score': ['1,000', '1,500', '1,200', '1,000', '1,500', '1,200', '1,000', '1,500', '1,200'],\n",
    "                   'Age': [35, 40, 22, 32, 44, 18, 20, 31, 50]})"
   ]
  },
  {
   "cell_type": "code",
   "execution_count": null,
   "metadata": {},
   "outputs": [],
   "source": []
  }
 ],
 "metadata": {
  "kernelspec": {
   "display_name": "Python 3",
   "language": "python",
   "name": "python3"
  },
  "language_info": {
   "codemirror_mode": {
    "name": "ipython",
    "version": 3
   },
   "file_extension": ".py",
   "mimetype": "text/x-python",
   "name": "python",
   "nbconvert_exporter": "python",
   "pygments_lexer": "ipython3",
   "version": "3.12.0"
  }
 },
 "nbformat": 4,
 "nbformat_minor": 2
}
